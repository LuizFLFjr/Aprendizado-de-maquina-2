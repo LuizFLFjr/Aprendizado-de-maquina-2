{
  "nbformat": 4,
  "nbformat_minor": 0,
  "metadata": {
    "colab": {
      "provenance": [],
      "authorship_tag": "ABX9TyMnjPhpEBWiriFp0iULJC6x",
      "include_colab_link": true
    },
    "kernelspec": {
      "name": "python3",
      "display_name": "Python 3"
    },
    "language_info": {
      "name": "python"
    }
  },
  "cells": [
    {
      "cell_type": "markdown",
      "metadata": {
        "id": "view-in-github",
        "colab_type": "text"
      },
      "source": [
        "<a href=\"https://colab.research.google.com/github/LuizFLFjr/Aprendizado-de-maquina-2/blob/main/atividade_gemini_LLM.ipynb\" target=\"_parent\"><img src=\"https://colab.research.google.com/assets/colab-badge.svg\" alt=\"Open In Colab\"/></a>"
      ]
    },
    {
      "cell_type": "code",
      "source": [
        "pip install -q -U google-genai"
      ],
      "metadata": {
        "id": "v1nFCmz7Wwwq"
      },
      "execution_count": 1,
      "outputs": []
    },
    {
      "cell_type": "code",
      "source": [
        "from google import genai\n",
        "\n",
        "# Substitua pela sua chave real\n",
        "client = genai.Client(api_key=\"Digite sua chave API\")\n",
        "\n",
        "# Prompt com raciocínio\n",
        "prompt1 = \"Explique como funciona o motor de um carro de maneira técnica e detalhada.\"\n",
        "\n",
        "# Primeira geração (resposta completa)\n",
        "response1 = client.models.generate_content(\n",
        "    model=\"gemini-2.0-flash\",\n",
        "    contents=[prompt1]\n",
        ")\n",
        "resposta1 = response1.text\n",
        "\n",
        "# Segunda geração (resumo simplificado)\n",
        "prompt2 = f\"Resuma e simplifique de forma objetiva essa explicação para que qualquer pessoa possa entender:\\n\\n{resposta1}\"\n",
        "response2 = client.models.generate_content(\n",
        "    model=\"gemini-2.0-flash\",\n",
        "    contents=[prompt2]\n",
        ")\n",
        "resposta2 = response2.text\n",
        "\n",
        "# Exibe resultados\n",
        "print(\"🔍 Resposta detalhada:\\n\", resposta1)\n",
        "print(\"\\n✅ Resumo simplificado:\\n\", resposta2)"
      ],
      "metadata": {
        "colab": {
          "base_uri": "https://localhost:8080/"
        },
        "id": "-McYRKoQYCdj",
        "outputId": "bc46563f-4ed8-4a87-df38-87bbcfb165ea"
      },
      "execution_count": 7,
      "outputs": [
        {
          "output_type": "stream",
          "name": "stdout",
          "text": [
            "🔍 Resposta detalhada:\n",
            " Para explicar o funcionamento de um motor de carro de forma técnica e detalhada, vamos focar no motor de combustão interna a quatro tempos, que é o tipo mais comum em veículos automotores.\n",
            "\n",
            "**Princípios Básicos:**\n",
            "\n",
            "O motor de combustão interna transforma a energia química contida no combustível em energia mecânica, que é utilizada para mover as rodas do veículo. Esse processo acontece dentro dos cilindros, onde pistões se movem para cima e para baixo, impulsionados pela explosão da mistura ar/combustível. O movimento linear dos pistões é convertido em movimento rotacional através da biela e do virabrequim.\n",
            "\n",
            "**Componentes Essenciais:**\n",
            "\n",
            "*   **Bloco do Motor:** Estrutura principal que aloja os cilindros, galerias de óleo e água para refrigeração.\n",
            "*   **Cilindros:** Cavidades onde os pistões se movem. O número de cilindros (3, 4, 6, 8, etc.) influencia a potência e suavidade do motor.\n",
            "*   **Pistões:** Componentes móveis que se deslocam dentro dos cilindros. Possuem anéis para vedação e controle do óleo.\n",
            "*   **Bielas:** Conectam os pistões ao virabrequim, transmitindo a força da explosão.\n",
            "*   **Virabrequim (Árvore de Manivelas):** Converte o movimento linear dos pistões em movimento rotacional, que é transmitido para a transmissão.\n",
            "*   **Cabeçote:** Tampa superior do bloco do motor, onde estão localizadas as válvulas de admissão e escape, as câmaras de combustão e, em muitos casos, o comando de válvulas.\n",
            "*   **Válvulas de Admissão:** Permitem a entrada da mistura ar/combustível no cilindro.\n",
            "*   **Válvulas de Escape:** Permitem a saída dos gases resultantes da combustão.\n",
            "*   **Comando de Válvulas (Árvore de Comando):** Controla o momento e a duração da abertura e fechamento das válvulas. Pode ser simples (SOHC) ou duplo (DOHC), com um ou dois comandos por cabeçote.\n",
            "*   **Velas de Ignição:** Em motores a gasolina, fornecem a faísca elétrica que inflama a mistura ar/combustível. Em motores diesel, a compressão do ar aquece o suficiente para inflamar o combustível.\n",
            "*   **Sistema de Alimentação:** Responsável por fornecer a mistura ar/combustível na proporção correta. Pode ser por carburador (em motores mais antigos) ou injeção eletrônica (mais comum).\n",
            "*   **Sistema de Ignição:** Fornece a alta voltagem necessária para gerar a faísca nas velas.\n",
            "*   **Sistema de Escape:** Conduz os gases resultantes da combustão para fora do motor, minimizando ruídos e poluentes.\n",
            "*   **Sistema de Arrefecimento:** Mantém a temperatura do motor dentro de uma faixa ideal de funcionamento, evitando superaquecimento. Utiliza água (ou líquido refrigerante) que circula através de galerias no bloco e cabeçote, resfriada por um radiador.\n",
            "*   **Sistema de Lubrificação:** Reduz o atrito entre as peças móveis do motor, minimizando o desgaste e dissipando calor. O óleo é bombeado para todas as partes do motor através de galerias.\n",
            "\n",
            "**Ciclo de Quatro Tempos:**\n",
            "\n",
            "O ciclo de funcionamento do motor é dividido em quatro tempos:\n",
            "\n",
            "1.  **Admissão:** O pistão se move para baixo, criando vácuo no cilindro. A válvula de admissão se abre, permitindo a entrada da mistura ar/combustível.\n",
            "2.  **Compressão:** O pistão se move para cima, comprimindo a mistura ar/combustível. Ambas as válvulas (admissão e escape) estão fechadas. A compressão aumenta a temperatura da mistura, facilitando a ignição.\n",
            "3.  **Combustão (Explosão/Expansão):** No instante em que o pistão atinge o ponto mais alto (PMS - Ponto Morto Superior), a vela de ignição (em motores a gasolina) gera uma faísca que inflama a mistura comprimida. A explosão resultante empurra o pistão para baixo com grande força.\n",
            "4.  **Escape:** O pistão se move para cima, empurrando os gases resultantes da combustão para fora do cilindro através da válvula de escape, que se abre neste momento.\n",
            "\n",
            "**Injeção Eletrônica:**\n",
            "\n",
            "A injeção eletrônica é um sistema de alimentação de combustível mais moderno e preciso do que o carburador. Ela utiliza sensores para monitorar diversas condições do motor (temperatura, pressão do ar, posição da borboleta, etc.) e uma central eletrônica (ECU - Engine Control Unit) para calcular a quantidade ideal de combustível a ser injetada em cada cilindro.\n",
            "\n",
            "**Vantagens da Injeção Eletrônica:**\n",
            "\n",
            "*   Melhor economia de combustível.\n",
            "*   Menor emissão de poluentes.\n",
            "*   Partida mais fácil em diferentes condições climáticas.\n",
            "*   Melhor desempenho do motor.\n",
            "\n",
            "**Variações e Tecnologias Adicionais:**\n",
            "\n",
            "*   **Comando Variável de Válvulas (VVT):** Ajusta o tempo e a duração da abertura das válvulas de acordo com a rotação e carga do motor, otimizando o desempenho em diferentes regimes.\n",
            "*   **Turbocompressor (Turbo) e Supercharger (Compressor Mecânico):** Forçam mais ar para dentro dos cilindros, aumentando a potência do motor.\n",
            "*   **Injeção Direta:** O combustível é injetado diretamente na câmara de combustão, em vez de ser injetado no coletor de admissão. Isso permite uma combustão mais eficiente e menor emissão de poluentes.\n",
            "*   **Motores Híbridos:** Combinam um motor de combustão interna com um motor elétrico, proporcionando maior eficiência e menor emissão de poluentes.\n",
            "*   **Motores Elétricos:** Utilizam eletricidade para gerar movimento, eliminando a necessidade de combustão interna e emissão de poluentes.\n",
            "\n",
            "**Considerações Finais:**\n",
            "\n",
            "Este é um resumo detalhado do funcionamento de um motor de carro. É importante notar que existem muitas variações e tecnologias adicionais que podem influenciar o desempenho e a eficiência do motor. A complexidade do motor exige um conhecimento técnico especializado para manutenção e reparos.\n",
            "\n",
            "\n",
            "✅ Resumo simplificado:\n",
            " Um motor de carro funciona queimando combustível para gerar energia e mover as rodas. Pense em um ciclo repetitivo de quatro etapas dentro do motor:\n",
            "\n",
            "1.  **Entrada:** Ar e combustível entram no motor.\n",
            "2.  **Compressão:** A mistura é comprimida.\n",
            "3.  **Explosão:** Uma faísca acende a mistura, gerando uma explosão que empurra uma peça móvel.\n",
            "4.  **Saída:** Os gases da queima são expelidos.\n",
            "\n",
            "Essa \"peça móvel\" (pistão) faz girar uma manivela (virabrequim), que transfere a força para as rodas.  Vários sistemas (injeção, ignição, lubrificação, arrefecimento, escape) ajudam a garantir que o motor opere corretamente e de forma eficiente.\n",
            "\n",
            "**Em resumo:** Queima controlada de combustível -> Explosão -> Movimento -> Roda girando.\n",
            "\n"
          ]
        }
      ]
    }
  ]
}